{
 "cells": [
  {
   "cell_type": "code",
   "execution_count": 2,
   "metadata": {},
   "outputs": [],
   "source": [
    "import cv2\n",
    "import numpy as np\n",
    "from tensorflow.keras.models import load_model\n",
    "from tensorflow.keras.preprocessing import image"
   ]
  },
  {
   "cell_type": "code",
   "execution_count": 4,
   "metadata": {},
   "outputs": [
    {
     "name": "stderr",
     "output_type": "stream",
     "text": [
      "WARNING:absl:Compiled the loaded model, but the compiled metrics have yet to be built. `model.compile_metrics` will be empty until you train or evaluate the model.\n"
     ]
    },
    {
     "name": "stdout",
     "output_type": "stream",
     "text": [
      "\u001b[1m1/1\u001b[0m \u001b[32m━━━━━━━━━━━━━━━━━━━━\u001b[0m\u001b[37m\u001b[0m \u001b[1m1s\u001b[0m 537ms/step\n"
     ]
    }
   ],
   "source": [
    "# Load the trained model\n",
    "model = load_model(\"D:/CV/fruits/frmodel.h5\")\n",
    "\n",
    "# Load the test image\n",
    "img_path = \"D:/CV/fruits/dataset/test/freshbanana/rotated_by_15_Screen Shot 2018-06-12 at 9.41.43 PM.png\"\n",
    "img = image.load_img(img_path, target_size=(150, 150))\n",
    "img_array = image.img_to_array(img)\n",
    "img_array = np.expand_dims(img_array, axis=0)\n",
    "img_array /= 255.0  # Normalize the image\n",
    "\n",
    "# Predict the class\n",
    "predictions = model.predict(img_array)\n",
    "predicted_class = np.argmax(predictions[0])\n",
    "\n",
    "# Define class labels\n",
    "class_labels = [\"freshapples\", \"freshbanana\", \"freshoranges\", \"rottenapples\", \"rottenbanana\", \"rottenoranges\"]\n",
    "\n",
    "# Load the original image for drawing bounding boxes\n",
    "orig_img = cv2.imread(img_path)\n",
    "\n",
    "# Assuming you have predefined bounding boxes; for demonstration, I'll define a dummy box\n",
    "# In a real scenario, you would use an object detection model to get these coordinates\n",
    "bounding_boxes = [\n",
    "    {\"label\": class_labels[predicted_class], \"box\": (50, 50, 300, 300)}  # Example box\n",
    "]\n",
    "\n",
    "# Draw the bounding boxes and labels on the image\n",
    "for box in bounding_boxes:\n",
    "    label = box[\"label\"]\n",
    "    (x, y, w, h) = box[\"box\"]\n",
    "    cv2.rectangle(orig_img, (x, y), (x + w, y + h), (0, 255, 0), 2)\n",
    "    cv2.putText(orig_img, label, (x, y - 10), cv2.FONT_HERSHEY_SIMPLEX, 0.9, (0, 255, 0), 2)\n",
    "\n",
    "# Display the image\n",
    "cv2.imshow(\"Image with Bounding Boxes\", orig_img)\n",
    "cv2.waitKey(0)\n",
    "cv2.destroyAllWindows()\n",
    "\n"
   ]
  }
 ],
 "metadata": {
  "kernelspec": {
   "display_name": "Python 3",
   "language": "python",
   "name": "python3"
  },
  "language_info": {
   "codemirror_mode": {
    "name": "ipython",
    "version": 3
   },
   "file_extension": ".py",
   "mimetype": "text/x-python",
   "name": "python",
   "nbconvert_exporter": "python",
   "pygments_lexer": "ipython3",
   "version": "3.12.4"
  }
 },
 "nbformat": 4,
 "nbformat_minor": 2
}
